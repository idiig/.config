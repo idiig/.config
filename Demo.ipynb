{
  "nbformat": 4,
  "nbformat_minor": 0,
  "metadata": {
    "colab": {
      "provenance": [],
      "authorship_tag": "ABX9TyMJhpOj4DizmF8+Wt/y7wXm",
      "include_colab_link": true
    },
    "kernelspec": {
      "name": "python3",
      "display_name": "Python 3"
    },
    "language_info": {
      "name": "python"
    }
  },
  "cells": [
    {
      "cell_type": "markdown",
      "metadata": {
        "id": "view-in-github",
        "colab_type": "text"
      },
      "source": [
        "<a href=\"https://colab.research.google.com/github/idiig/.config/blob/master/Demo.ipynb\" target=\"_parent\"><img src=\"https://colab.research.google.com/assets/colab-badge.svg\" alt=\"Open In Colab\"/></a>"
      ]
    },
    {
      "cell_type": "markdown",
      "source": [
        "## 1 | Set Up Git Locally"
      ],
      "metadata": {
        "id": "bowIuoYtVgkk"
      }
    },
    {
      "cell_type": "markdown",
      "source": [
        "### 1.1 | Download and install Git\n",
        "\n",
        "Download and install from [https://git-scm.com/downloads](https://git-scm.com/downloads).\n",
        "\n",
        "Use commmand line to install see: [Getting Started Installing Git](https://git-scm.com/book/en/v2/Getting-Started-Installing-Git)."
      ],
      "metadata": {
        "id": "AGIslTPBVzX4"
      }
    },
    {
      "cell_type": "code",
      "execution_count": null,
      "metadata": {
        "id": "qHoXenMFUn4b",
        "colab": {
          "base_uri": "https://localhost:8080/"
        },
        "outputId": "14220848-0fa4-44c8-9050-d024191f89ed"
      },
      "outputs": [
        {
          "output_type": "stream",
          "name": "stdout",
          "text": [
            "git version 2.34.1\n"
          ]
        }
      ],
      "source": [
        "# Check installation\n",
        "!git --version"
      ]
    },
    {
      "cell_type": "code",
      "source": [
        "!git config --global user.name \"XXDXXXXX\"\n",
        "!git config --global user.email \"your-email@example.com\""
      ],
      "metadata": {
        "id": "Mka14O0EYqCz"
      },
      "execution_count": null,
      "outputs": []
    },
    {
      "cell_type": "markdown",
      "source": [
        "## 2 | GitHub"
      ],
      "metadata": {
        "id": "U5ZcjPyTeKOy"
      }
    },
    {
      "cell_type": "markdown",
      "source": [
        "### 2.1 | Create a GitHub Account\n",
        "\n",
        "Visit [GitHub](https://github.com/) and sign up for an account."
      ],
      "metadata": {
        "id": "7b_aIXSKfHew"
      }
    },
    {
      "cell_type": "markdown",
      "source": [
        "### 2.2 | Set up SSH keys for authentication.\n",
        "\n",
        "After logging in, we need to set up SSH keys"
      ],
      "metadata": {
        "id": "I8Bpki52frVX"
      }
    },
    {
      "cell_type": "markdown",
      "source": [
        "#### 2.2.1 | **Step 1: Check for existing SSH keys**\n",
        "\n",
        "  Before generating a new SSH key, check if you already have one on your machine. If you see files like id_rsa and id_rsa.pub, it means you already have an SSH key pair. If not, proceed to the next step."
      ],
      "metadata": {
        "id": "yTCYDKSsg_35"
      }
    },
    {
      "cell_type": "code",
      "source": [
        "!ls -al ~/.ssh"
      ],
      "metadata": {
        "colab": {
          "base_uri": "https://localhost:8080/"
        },
        "id": "AVlYIEx6Zrw7",
        "outputId": "e2af0363-1ff4-4003-934f-2af59d36baca"
      },
      "execution_count": null,
      "outputs": [
        {
          "output_type": "stream",
          "name": "stdout",
          "text": [
            "total 20\n",
            "drwx------ 2 root root 4096 Sep 27 08:17 .\n",
            "drwx------ 1 root root 4096 Sep 27 08:17 ..\n",
            "-rw------- 1 root root  419 Sep 27 08:17 id_ed25519\n",
            "-rw-r--r-- 1 root root  104 Sep 27 08:17 id_ed25519.pub\n"
          ]
        }
      ]
    },
    {
      "cell_type": "markdown",
      "source": [
        "#### 2.2.2 | **Step 2: Generate a new SSH key**.\n",
        "  \n",
        "  If you don't have an SSH key or want to create a new one:"
      ],
      "metadata": {
        "id": "gBkQRD5lh4I9"
      }
    },
    {
      "cell_type": "code",
      "source": [
        "# Note: replacing `your_email@example.com` with\n",
        "# your GitHub email address\n",
        "!ssh-keygen -t ed25519 -C \"your_email@example.com\"\n",
        "# If your version of SSH doesn’t support Ed25519, use RSA:\n",
        "# !ssh-keygen -t rsa -b 4096 -C \"your_email@example.com\""
      ],
      "metadata": {
        "colab": {
          "base_uri": "https://localhost:8080/"
        },
        "id": "wNy_Ob55jFCk",
        "outputId": "7d906cd1-764b-49c8-f887-66be418c2608"
      },
      "execution_count": null,
      "outputs": [
        {
          "output_type": "stream",
          "name": "stdout",
          "text": [
            "Generating public/private ed25519 key pair.\n",
            "Enter file in which to save the key (/root/.ssh/id_ed25519): ^C\n"
          ]
        }
      ]
    },
    {
      "cell_type": "markdown",
      "source": [
        "#### 2.2.3 | **Step 3: Add your SSH key to the SSH agent**"
      ],
      "metadata": {
        "id": "5QuRxbVCkRNa"
      }
    },
    {
      "cell_type": "code",
      "source": [
        "# Start the SSH agent in the background:\n",
        "!eval \"$(ssh-agent -s)\"\n",
        "\n",
        "# Add your SSH private key to the agent:\n",
        "!ssh-add ~/.ssh/id_ed25519\n",
        "# If you used RSA, use the following\n",
        "# !ssh-add ~/.ssh/id_rsa."
      ],
      "metadata": {
        "colab": {
          "base_uri": "https://localhost:8080/"
        },
        "id": "1pxrSwDjhhgL",
        "outputId": "3771dfc0-d341-498f-885e-f40f4cc6c4dd"
      },
      "execution_count": null,
      "outputs": [
        {
          "output_type": "stream",
          "name": "stdout",
          "text": [
            "Agent pid 15079\n",
            "Could not open a connection to your authentication agent.\n"
          ]
        }
      ]
    },
    {
      "cell_type": "markdown",
      "source": [
        "#### 2.2.4 | **Step 4: Add the SSH key to your GitHub account**\n",
        "  \n",
        "  Then manually copy the output. Go to your GitHub account:\n",
        "\n",
        "  - Navigate to Settings > SSH and GPG keys.\n",
        "  - Click New SSH key.\n",
        "  - Paste your SSH key into the \"Key\" field and give it a title.\n",
        "  - Click Add SSH key."
      ],
      "metadata": {
        "id": "m3GSiPOBmdya"
      }
    },
    {
      "cell_type": "code",
      "source": [
        "!cat ~/.ssh/id_ed25519.pub"
      ],
      "metadata": {
        "colab": {
          "base_uri": "https://localhost:8080/"
        },
        "id": "xua4xSX0k-iT",
        "outputId": "1b4b175e-3a6c-4e9c-bee5-d92364e86ba8"
      },
      "execution_count": null,
      "outputs": [
        {
          "output_type": "stream",
          "name": "stdout",
          "text": [
            "ssh-ed25519 AAAAC3NzaC1lZDI1NTE5AAAAIKiLbZr+10CErZygniIlT+ColzgDw1MObf6D2Reedtd7 your_email@example.com\n"
          ]
        }
      ]
    },
    {
      "cell_type": "markdown",
      "source": [
        "2.2.5 | **Step 5: Test the connection**\n",
        "\n",
        "  If you see a message like \"Hi username! You've successfully authenticated,\" then the SSH setup is complete.\n",
        "\n"
      ],
      "metadata": {
        "id": "EVzwn1bvnjjD"
      }
    },
    {
      "cell_type": "code",
      "source": [
        "!ssh -T git@github.com"
      ],
      "metadata": {
        "colab": {
          "base_uri": "https://localhost:8080/"
        },
        "id": "95ifONWomxYD",
        "outputId": "66a04127-dad9-4bc1-e5c8-bddc79154a9e"
      },
      "execution_count": null,
      "outputs": [
        {
          "output_type": "stream",
          "name": "stdout",
          "text": [
            "Host key verification failed.\r\n"
          ]
        }
      ]
    },
    {
      "cell_type": "markdown",
      "source": [
        "## 3 | Create a New GitHub Repository"
      ],
      "metadata": {
        "id": "4fLmueBMpHML"
      }
    },
    {
      "cell_type": "markdown",
      "source": [
        "### 3.1 | GitHub\n",
        "\n",
        "- In the top right corner of the GitHub interface, click the `+` icon and select New repository.\n",
        "- Fill in the repository name, description, and choose repository **public**.\n",
        "- You can choose to initialize the repository with a `README.md` file, `.gitignore`, and license.\n",
        "- Click Create repository to create the new repository."
      ],
      "metadata": {
        "id": "CbTNdmCSpa3r"
      }
    },
    {
      "cell_type": "markdown",
      "source": [
        "### 3.2 | Local\n",
        "\n",
        "- Navigate to the root directory of your project and initialize it as a Git repository.\n",
        "- Add the GitHub repository as a remote.\n",
        "- Now you can check your repository page."
      ],
      "metadata": {
        "id": "gi2vZ2uBrbLV"
      }
    },
    {
      "cell_type": "code",
      "source": [
        "# Navigate to the root directory of your project and\n",
        "# initialize it as a Git repository:\n",
        "!git init\n",
        "\n",
        "# Add the GitHub repository as a remote using SSH:\n",
        "!git remote add origin git@github.com:your-username/your-repository.Git\n",
        "# !git remote add origin https://github.com/your-username/your-repository.git"
      ],
      "metadata": {
        "colab": {
          "base_uri": "https://localhost:8080/"
        },
        "id": "UAcC9LVopJ9I",
        "outputId": "1c4c67e1-a9fe-4a7e-bff7-b75a57f28a6e"
      },
      "execution_count": null,
      "outputs": [
        {
          "output_type": "stream",
          "name": "stdout",
          "text": [
            "\u001b[33mhint: Using 'master' as the name for the initial branch. This default branch name\u001b[m\n",
            "\u001b[33mhint: is subject to change. To configure the initial branch name to use in all\u001b[m\n",
            "\u001b[33mhint: of your new repositories, which will suppress this warning, call:\u001b[m\n",
            "\u001b[33mhint: \u001b[m\n",
            "\u001b[33mhint: \tgit config --global init.defaultBranch <name>\u001b[m\n",
            "\u001b[33mhint: \u001b[m\n",
            "\u001b[33mhint: Names commonly chosen instead of 'master' are 'main', 'trunk' and\u001b[m\n",
            "\u001b[33mhint: 'development'. The just-created branch can be renamed via this command:\u001b[m\n",
            "\u001b[33mhint: \u001b[m\n",
            "\u001b[33mhint: \tgit branch -m <name>\u001b[m\n",
            "Initialized empty Git repository in /content/.git/\n"
          ]
        }
      ]
    },
    {
      "cell_type": "markdown",
      "source": [
        "## 4 | Basic usage"
      ],
      "metadata": {
        "id": "wg59HCibsfe6"
      }
    },
    {
      "cell_type": "markdown",
      "source": [
        "### 4.1 | `git add`: Add project files"
      ],
      "metadata": {
        "id": "qo3q5iq0xiUs"
      }
    },
    {
      "cell_type": "code",
      "source": [
        "# Add all project files to the staging area:\n",
        "!git add ."
      ],
      "metadata": {
        "id": "W_zrRnEKsP0R"
      },
      "execution_count": null,
      "outputs": []
    },
    {
      "cell_type": "markdown",
      "source": [
        "### 4.2 | `git commit -m <message>` Commit changes"
      ],
      "metadata": {
        "id": "OLNHyz-qx-ht"
      }
    },
    {
      "cell_type": "code",
      "source": [
        "# Commit your changes:\n",
        "!git commit -m \"commit message\""
      ],
      "metadata": {
        "id": "yWEd7xIIyKnu"
      },
      "execution_count": null,
      "outputs": []
    },
    {
      "cell_type": "markdown",
      "source": [
        "### 4.3 | `git push`: Push the local project to the GitHub repository"
      ],
      "metadata": {
        "id": "u8rAZzDUyhkS"
      }
    },
    {
      "cell_type": "code",
      "source": [
        "!git push -u origin master"
      ],
      "metadata": {
        "id": "9RZo-itAyxiM"
      },
      "execution_count": null,
      "outputs": []
    },
    {
      "cell_type": "markdown",
      "source": [
        "## 5 | Simplest way: Use Colab"
      ],
      "metadata": {
        "id": "P5MkHPdRzGSA"
      }
    },
    {
      "cell_type": "markdown",
      "source": [
        "1. File\n",
        "2. Save a copy in GitHub.\n",
        "  - Choose repository\n",
        "  - Choose branch: generally `main`."
      ],
      "metadata": {
        "id": "Hx19fxzMzPK4"
      }
    },
    {
      "cell_type": "code",
      "source": [],
      "metadata": {
        "id": "JqIV3Z3UzNxf"
      },
      "execution_count": null,
      "outputs": []
    },
    {
      "cell_type": "markdown",
      "source": [
        "## Alternative tools"
      ],
      "metadata": {
        "id": "bRUe9fLEz5jH"
      }
    },
    {
      "cell_type": "markdown",
      "source": [
        "## Repository alternatively"
      ],
      "metadata": {
        "id": "q2fPAg-4zp6H"
      }
    },
    {
      "cell_type": "markdown",
      "source": [
        "1. Open Science Framework\n",
        "2. Zenodo"
      ],
      "metadata": {
        "id": "fHg0VFozzvwJ"
      }
    },
    {
      "cell_type": "code",
      "source": [],
      "metadata": {
        "id": "5X2fBJcEzu5g"
      },
      "execution_count": null,
      "outputs": []
    },
    {
      "cell_type": "markdown",
      "source": [
        "## Project reproducability"
      ],
      "metadata": {
        "id": "e1d0tpAqz9eA"
      }
    },
    {
      "cell_type": "code",
      "source": [],
      "metadata": {
        "id": "jCdi43Xu0A3x"
      },
      "execution_count": null,
      "outputs": []
    },
    {
      "cell_type": "markdown",
      "source": [
        "## Project structure"
      ],
      "metadata": {
        "id": "rPz3Qrnw0FDQ"
      }
    },
    {
      "cell_type": "code",
      "source": [],
      "metadata": {
        "id": "J1869XPO0IH3"
      },
      "execution_count": null,
      "outputs": []
    },
    {
      "cell_type": "markdown",
      "source": [
        "## Literary Programming"
      ],
      "metadata": {
        "id": "jv7DjLr_0WHj"
      }
    },
    {
      "cell_type": "code",
      "source": [],
      "metadata": {
        "id": "Rh-2xlr20jqh"
      },
      "execution_count": null,
      "outputs": []
    }
  ]
}